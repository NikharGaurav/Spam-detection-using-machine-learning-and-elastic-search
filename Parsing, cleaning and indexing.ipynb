{
 "cells": [
  {
   "cell_type": "code",
   "execution_count": 1,
   "metadata": {
    "collapsed": true
   },
   "outputs": [],
   "source": [
    "import os\n",
    "from bs4 import BeautifulSoup\n",
    "import email\n",
    "import re\n",
    "import string\n",
    "from elasticsearch import Elasticsearch \n",
    "# from nltk.corpus import stopwords"
   ]
  },
  {
   "cell_type": "code",
   "execution_count": 8,
   "metadata": {
    "collapsed": true
   },
   "outputs": [],
   "source": [
    "es=Elasticsearch()"
   ]
  },
  {
   "cell_type": "code",
   "execution_count": 3,
   "metadata": {
    "collapsed": true
   },
   "outputs": [],
   "source": [
    "#path of the data file\n",
    "path=('C:/Users/Nikhar/Downloads/Assignment/InformationRetrievalCS6200/HW7/full/trec07p/data/')"
   ]
  },
  {
   "cell_type": "code",
   "execution_count": 2,
   "metadata": {
    "collapsed": true
   },
   "outputs": [],
   "source": [
    "#Reading the file with mapping for each file with respect to being spam or ham\n",
    "spam_dict={}\n",
    "index_path='C:/Users/Nikhar/Downloads/Assignment/InformationRetrievalCS6200/HW7/full/trec07p/full/'\n",
    "for line in os.listdir(index_path):\n",
    "    file=open(index_path+line,\"r\", encoding=\"ISO-8859-1\")\n",
    "    for line in file:\n",
    "        line=line.strip().split(' ')\n",
    "        fname=line[1].split('/')\n",
    "        spam_dict[fname[2]]=line[0]\n",
    "       "
   ]
  },
  {
   "cell_type": "code",
   "execution_count": 6,
   "metadata": {
    "collapsed": true
   },
   "outputs": [],
   "source": [
    "#naming the index for elastic search\n",
    "index='trec_spam'"
   ]
  },
  {
   "cell_type": "code",
   "execution_count": 20,
   "metadata": {},
   "outputs": [
    {
     "data": {
      "text/plain": [
       "{'acknowledged': True, 'shards_acknowledged': True}"
      ]
     },
     "execution_count": 20,
     "metadata": {},
     "output_type": "execute_result"
    }
   ],
   "source": [
    "#creating the index with elastic search\n",
    "es.indices.create(index=index,\n",
    "                      body={\n",
    "                          'settings': {\n",
    "                              'index': {\n",
    "                                  'store': {\n",
    "                                      'type': \"fs\"\n",
    "                                  },\n",
    "                                  'number_of_shards': 1,\n",
    "                                  'number_of_replicas': 1\n",
    "                              },\n",
    "                              'analysis': {\n",
    "                                 \"analyzer\": {\n",
    "                                   \"fulltext_analyzer\": {\n",
    "                                       \"type\": \"custom\",\n",
    "                                       \"tokenizer\": \"whitespace\",\n",
    "                                          \"filter\": [\n",
    "                                               \"lowercase\",\n",
    "                                                    ]\n",
    "                                                  }\n",
    "                                            }\n",
    "                              }\n",
    "                          },\n",
    "                          \"mappings\": {\n",
    "                              \"document\": {\n",
    "                                  \"properties\": {\n",
    "                                      \"file_name\": {\n",
    "                                          \"type\": \"text\",\n",
    "                                          \"store\": True,\n",
    "                                          \"index\": True\n",
    "                                      },\n",
    "                                      \"body\": {\n",
    "                                          \"type\": \"text\",\n",
    "                                          \"store\": True,\n",
    "                                          \"index\": True,\n",
    "                                          \"fielddata\":True,\n",
    "                                          \"term_vector\": \"with_positions_offsets_payloads\",\n",
    "                                          \"analyzer\": \"fulltext_analyzer\"\n",
    "                                      },\n",
    "                                      \"label\":{\n",
    "                                          \"type\": \"keyword\",\n",
    "                                          \"store\": True,\n",
    "                                          \"index\": True\n",
    "                                      }\n",
    "                                      }\n",
    "                                  }\n",
    "                              }\n",
    "                          }\n",
    "         )"
   ]
  },
  {
   "cell_type": "code",
   "execution_count": 15,
   "metadata": {
    "collapsed": true
   },
   "outputs": [],
   "source": [
    "#reading the stopwords from stoplist file\n",
    "with open(\"C:/Users/Nikhar/Downloads/Side_work/spam/stoplist.txt\") as sfile:\n",
    "    stopWords = sfile.readlines()\n",
    "stopWords = set(map(str.strip, stopWords))\n",
    "sfile.close()"
   ]
  },
  {
   "cell_type": "code",
   "execution_count": 21,
   "metadata": {},
   "outputs": [
    {
     "name": "stdout",
     "output_type": "stream",
     "text": [
      "Total files indexed:75419\n",
      "Total spam files indexed:50199\n"
     ]
    }
   ],
   "source": [
    "caught=0\n",
    "count=0\n",
    "path=('C:/Users/Nikhar/Downloads/Assignment/InformationRetrievalCS6200/HW7/full/trec07p/data/')\n",
    "for filename in os.listdir(path):\n",
    "#     print(filename)\n",
    "    count+=1\n",
    "    mail_type=spam_dict[filename]\n",
    "\n",
    "    file=open(path+filename,\"r\", encoding=\"ISO-8859-1\")\n",
    "    mail_text=\"\"\n",
    "    for line in file:\n",
    "        mail_text=mail_text+line\n",
    "        mail_text= mail_text.replace('\\n',' ').replace('\\t',' ')\n",
    "\n",
    "    \n",
    "    mail_text=re.sub(' +',' ',mail_text)\n",
    "    mail_text=mail_text.lower()\n",
    "    soup=BeautifulSoup(mail_text,'lxml')\n",
    "    text=soup.get_text()\n",
    "    for p in string.punctuation:\n",
    "        if p!='_'  and p!='\\'' and p!='@' :\n",
    "            text=text.replace(p,' ')\n",
    "    text=text.replace(' com','.com')\n",
    "    \n",
    "    \n",
    "    string_x=list()\n",
    "    mail_text=text.split()\n",
    "    for unigram in mail_text:\n",
    "        if unigram in stopWords:\n",
    "            string_x.append('')\n",
    "        else:\n",
    "            string_x.append(unigram)\n",
    "    mail_text=' '.join(string_x)\n",
    "    \n",
    "    mail_text = re.sub('[0-9]+', '', mail_text)\n",
    "    mail_text=mail_text.replace('   ',' ')\n",
    "    mail_text=mail_text.replace('  ',' ')\n",
    "    mail_text=mail_text.strip()\n",
    "    \n",
    "    if mail_type==\"spam\":\n",
    "        label='yes'\n",
    "        caught=caught+1\n",
    "    else:\n",
    "        label='no'\n",
    "    \n",
    "    \n",
    "    doc={\n",
    "        \"file_name\": filename,\n",
    "        \"body\":mail_text,\n",
    "        \"label\":label\n",
    "    }\n",
    "    \n",
    "    res=es.index(index=index, doc_type='document', id=filename, body=doc,ignore=[404,400])\n",
    "\n",
    "print('Total files indexed:'+str(count))\n",
    "print('Total spam files indexed:'+str(caught))\n"
   ]
  }
 ],
 "metadata": {
  "kernelspec": {
   "display_name": "Python 3",
   "language": "python",
   "name": "python3"
  },
  "language_info": {
   "codemirror_mode": {
    "name": "ipython",
    "version": 3
   },
   "file_extension": ".py",
   "mimetype": "text/x-python",
   "name": "python",
   "nbconvert_exporter": "python",
   "pygments_lexer": "ipython3",
   "version": "3.6.3"
  }
 },
 "nbformat": 4,
 "nbformat_minor": 2
}
